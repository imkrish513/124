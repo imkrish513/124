{
  "cells": [
    {
      "cell_type": "markdown",
      "metadata": {
        "id": "view-in-github",
        "colab_type": "text"
      },
      "source": [
        "<a href=\"https://colab.research.google.com/github/imkrish513/124/blob/main/FinalPredicter.ipynb\" target=\"_parent\"><img src=\"https://colab.research.google.com/assets/colab-badge.svg\" alt=\"Open In Colab\"/></a>"
      ]
    },
    {
      "cell_type": "markdown",
      "metadata": {
        "id": "aeennmdKhPnv"
      },
      "source": [
        "## **Aim:** Stock Market Prediction & Forecasting using Stacked LSTM\n",
        "\n",
        "<br>\n"
      ]
    },
    {
      "cell_type": "markdown",
      "metadata": {
        "id": "iUGtT0glhPn1"
      },
      "source": [
        "## Loading Libraries & Importing Dataset"
      ]
    },
    {
      "cell_type": "code",
      "execution_count": null,
      "metadata": {
        "id": "T44YAitAhPn2"
      },
      "outputs": [],
      "source": [
        "import warnings\n",
        "warnings.filterwarnings(\"ignore\")\n",
        "import numpy as np\n",
        "import pandas as pd\n",
        "import matplotlib.pyplot as plt\n",
        "from sklearn.preprocessing import MinMaxScaler\n",
        "from sklearn.metrics import mean_squared_error, r2_score, mean_absolute_error\n",
        "from sklearn.model_selection import train_test_split\n",
        "from keras import callbacks\n",
        "from keras.models import Sequential\n",
        "from keras.layers import Dense\n",
        "from keras.layers import LSTM\n",
        "from numpy import array"
      ]
    },
    {
      "cell_type": "code",
      "execution_count": null,
      "metadata": {
        "id": "bgWyCX2thnDW"
      },
      "outputs": [],
      "source": [
        "!pip install -q yfinance"
      ]
    },
    {
      "cell_type": "code",
      "execution_count": null,
      "metadata": {
        "colab": {
          "base_uri": "https://localhost:8080/",
          "height": 255
        },
        "id": "YqwKYTJGhPn3",
        "outputId": "f4b5dd41-bb53-4069-a417-b10a05c91832"
      },
      "outputs": [
        {
          "output_type": "stream",
          "name": "stdout",
          "text": [
            "\r[*********************100%***********************]  1 of 1 completed\n"
          ]
        },
        {
          "output_type": "execute_result",
          "data": {
            "text/plain": [
              "                          Open       High        Low      Close  Adj Close  \\\n",
              "Datetime                                                                     \n",
              "2021-04-12 09:30:00  81.919998  82.108803  80.910004  81.550003  81.550003   \n",
              "2021-04-12 10:30:00  81.550003  81.949203  80.929802  81.709999  81.709999   \n",
              "2021-04-12 11:30:00  81.720001  81.919998  80.739998  80.894897  80.894897   \n",
              "2021-04-12 12:30:00  80.900002  81.199997  79.675003  79.709999  79.709999   \n",
              "2021-04-12 13:30:00  79.699997  79.709999  78.550003  78.565002  78.565002   \n",
              "\n",
              "                       Volume  \n",
              "Datetime                       \n",
              "2021-04-12 09:30:00   8150238  \n",
              "2021-04-12 10:30:00   4942307  \n",
              "2021-04-12 11:30:00   5620004  \n",
              "2021-04-12 12:30:00   9302606  \n",
              "2021-04-12 13:30:00  12916687  "
            ],
            "text/html": [
              "\n",
              "  <div id=\"df-623de70c-4d5e-4359-a012-928f8ff47175\">\n",
              "    <div class=\"colab-df-container\">\n",
              "      <div>\n",
              "<style scoped>\n",
              "    .dataframe tbody tr th:only-of-type {\n",
              "        vertical-align: middle;\n",
              "    }\n",
              "\n",
              "    .dataframe tbody tr th {\n",
              "        vertical-align: top;\n",
              "    }\n",
              "\n",
              "    .dataframe thead th {\n",
              "        text-align: right;\n",
              "    }\n",
              "</style>\n",
              "<table border=\"1\" class=\"dataframe\">\n",
              "  <thead>\n",
              "    <tr style=\"text-align: right;\">\n",
              "      <th></th>\n",
              "      <th>Open</th>\n",
              "      <th>High</th>\n",
              "      <th>Low</th>\n",
              "      <th>Close</th>\n",
              "      <th>Adj Close</th>\n",
              "      <th>Volume</th>\n",
              "    </tr>\n",
              "    <tr>\n",
              "      <th>Datetime</th>\n",
              "      <th></th>\n",
              "      <th></th>\n",
              "      <th></th>\n",
              "      <th></th>\n",
              "      <th></th>\n",
              "      <th></th>\n",
              "    </tr>\n",
              "  </thead>\n",
              "  <tbody>\n",
              "    <tr>\n",
              "      <th>2021-04-12 09:30:00</th>\n",
              "      <td>81.919998</td>\n",
              "      <td>82.108803</td>\n",
              "      <td>80.910004</td>\n",
              "      <td>81.550003</td>\n",
              "      <td>81.550003</td>\n",
              "      <td>8150238</td>\n",
              "    </tr>\n",
              "    <tr>\n",
              "      <th>2021-04-12 10:30:00</th>\n",
              "      <td>81.550003</td>\n",
              "      <td>81.949203</td>\n",
              "      <td>80.929802</td>\n",
              "      <td>81.709999</td>\n",
              "      <td>81.709999</td>\n",
              "      <td>4942307</td>\n",
              "    </tr>\n",
              "    <tr>\n",
              "      <th>2021-04-12 11:30:00</th>\n",
              "      <td>81.720001</td>\n",
              "      <td>81.919998</td>\n",
              "      <td>80.739998</td>\n",
              "      <td>80.894897</td>\n",
              "      <td>80.894897</td>\n",
              "      <td>5620004</td>\n",
              "    </tr>\n",
              "    <tr>\n",
              "      <th>2021-04-12 12:30:00</th>\n",
              "      <td>80.900002</td>\n",
              "      <td>81.199997</td>\n",
              "      <td>79.675003</td>\n",
              "      <td>79.709999</td>\n",
              "      <td>79.709999</td>\n",
              "      <td>9302606</td>\n",
              "    </tr>\n",
              "    <tr>\n",
              "      <th>2021-04-12 13:30:00</th>\n",
              "      <td>79.699997</td>\n",
              "      <td>79.709999</td>\n",
              "      <td>78.550003</td>\n",
              "      <td>78.565002</td>\n",
              "      <td>78.565002</td>\n",
              "      <td>12916687</td>\n",
              "    </tr>\n",
              "  </tbody>\n",
              "</table>\n",
              "</div>\n",
              "      <button class=\"colab-df-convert\" onclick=\"convertToInteractive('df-623de70c-4d5e-4359-a012-928f8ff47175')\"\n",
              "              title=\"Convert this dataframe to an interactive table.\"\n",
              "              style=\"display:none;\">\n",
              "        \n",
              "  <svg xmlns=\"http://www.w3.org/2000/svg\" height=\"24px\"viewBox=\"0 0 24 24\"\n",
              "       width=\"24px\">\n",
              "    <path d=\"M0 0h24v24H0V0z\" fill=\"none\"/>\n",
              "    <path d=\"M18.56 5.44l.94 2.06.94-2.06 2.06-.94-2.06-.94-.94-2.06-.94 2.06-2.06.94zm-11 1L8.5 8.5l.94-2.06 2.06-.94-2.06-.94L8.5 2.5l-.94 2.06-2.06.94zm10 10l.94 2.06.94-2.06 2.06-.94-2.06-.94-.94-2.06-.94 2.06-2.06.94z\"/><path d=\"M17.41 7.96l-1.37-1.37c-.4-.4-.92-.59-1.43-.59-.52 0-1.04.2-1.43.59L10.3 9.45l-7.72 7.72c-.78.78-.78 2.05 0 2.83L4 21.41c.39.39.9.59 1.41.59.51 0 1.02-.2 1.41-.59l7.78-7.78 2.81-2.81c.8-.78.8-2.07 0-2.86zM5.41 20L4 18.59l7.72-7.72 1.47 1.35L5.41 20z\"/>\n",
              "  </svg>\n",
              "      </button>\n",
              "      \n",
              "  <style>\n",
              "    .colab-df-container {\n",
              "      display:flex;\n",
              "      flex-wrap:wrap;\n",
              "      gap: 12px;\n",
              "    }\n",
              "\n",
              "    .colab-df-convert {\n",
              "      background-color: #E8F0FE;\n",
              "      border: none;\n",
              "      border-radius: 50%;\n",
              "      cursor: pointer;\n",
              "      display: none;\n",
              "      fill: #1967D2;\n",
              "      height: 32px;\n",
              "      padding: 0 0 0 0;\n",
              "      width: 32px;\n",
              "    }\n",
              "\n",
              "    .colab-df-convert:hover {\n",
              "      background-color: #E2EBFA;\n",
              "      box-shadow: 0px 1px 2px rgba(60, 64, 67, 0.3), 0px 1px 3px 1px rgba(60, 64, 67, 0.15);\n",
              "      fill: #174EA6;\n",
              "    }\n",
              "\n",
              "    [theme=dark] .colab-df-convert {\n",
              "      background-color: #3B4455;\n",
              "      fill: #D2E3FC;\n",
              "    }\n",
              "\n",
              "    [theme=dark] .colab-df-convert:hover {\n",
              "      background-color: #434B5C;\n",
              "      box-shadow: 0px 1px 3px 1px rgba(0, 0, 0, 0.15);\n",
              "      filter: drop-shadow(0px 1px 2px rgba(0, 0, 0, 0.3));\n",
              "      fill: #FFFFFF;\n",
              "    }\n",
              "  </style>\n",
              "\n",
              "      <script>\n",
              "        const buttonEl =\n",
              "          document.querySelector('#df-623de70c-4d5e-4359-a012-928f8ff47175 button.colab-df-convert');\n",
              "        buttonEl.style.display =\n",
              "          google.colab.kernel.accessAllowed ? 'block' : 'none';\n",
              "\n",
              "        async function convertToInteractive(key) {\n",
              "          const element = document.querySelector('#df-623de70c-4d5e-4359-a012-928f8ff47175');\n",
              "          const dataTable =\n",
              "            await google.colab.kernel.invokeFunction('convertToInteractive',\n",
              "                                                     [key], {});\n",
              "          if (!dataTable) return;\n",
              "\n",
              "          const docLinkHtml = 'Like what you see? Visit the ' +\n",
              "            '<a target=\"_blank\" href=https://colab.research.google.com/notebooks/data_table.ipynb>data table notebook</a>'\n",
              "            + ' to learn more about interactive tables.';\n",
              "          element.innerHTML = '';\n",
              "          dataTable['output_type'] = 'display_data';\n",
              "          await google.colab.output.renderOutput(dataTable, element);\n",
              "          const docLink = document.createElement('div');\n",
              "          docLink.innerHTML = docLinkHtml;\n",
              "          element.appendChild(docLink);\n",
              "        }\n",
              "      </script>\n",
              "    </div>\n",
              "  </div>\n",
              "  "
            ]
          },
          "metadata": {},
          "execution_count": 3
        }
      ],
      "source": [
        "import yfinance as yf\n",
        "yf.pdr_override()\n",
        "from datetime import datetime\n",
        "\n",
        "from pandas_datareader import data as pdr\n",
        "\n",
        "data = pdr.get_data_yahoo('AMD', start='2021-04-10', end='2023-01-25', interval = '60m')\n",
        "data.head()"
      ]
    },
    {
      "cell_type": "code",
      "execution_count": null,
      "metadata": {
        "colab": {
          "base_uri": "https://localhost:8080/",
          "height": 282
        },
        "id": "iUx4WBvthPn3",
        "outputId": "ccdcc223-9b4a-4bd0-9138-4b753523bb66"
      },
      "outputs": [
        {
          "output_type": "execute_result",
          "data": {
            "text/plain": [
              "[<matplotlib.lines.Line2D at 0x7ffa92a81040>]"
            ]
          },
          "metadata": {},
          "execution_count": 36
        },
        {
          "output_type": "display_data",
          "data": {
            "text/plain": [
              "<Figure size 432x288 with 1 Axes>"
            ],
            "image/png": "[encoded data removed]"
          },
          "metadata": {
            "needs_background": "light"
          }
        }
      ],
      "source": [
        "temp = data.reset_index()['Close']\n",
        "plt.plot(temp)"
      ]
    },
    {
      "cell_type": "markdown",
      "metadata": {
        "id": "Au10-GhxhPn4"
      },
      "source": [
        "## Data Transformation using Min-Max-Scaler"
      ]
    },
    {
      "cell_type": "code",
      "execution_count": null,
      "metadata": {
        "colab": {
          "base_uri": "https://localhost:8080/",
          "height": 235
        },
        "id": "KWOuGzPyhPn4",
        "outputId": "eb746522-e852-439b-cb6f-d243796c4321"
      },
      "outputs": [
        {
          "output_type": "execute_result",
          "data": {
            "text/plain": [
              "                          Open       High        Low      Close  Adj Close  \\\n",
              "Datetime                                                                     \n",
              "2021-04-12 09:30:00  81.919998  82.108803  80.910004  81.550003  81.550003   \n",
              "2021-04-12 10:30:00  81.550003  81.949203  80.929802  81.709999  81.709999   \n",
              "2021-04-12 11:30:00  81.720001  81.919998  80.739998  80.894897  80.894897   \n",
              "2021-04-12 12:30:00  80.900002  81.199997  79.675003  79.709999  79.709999   \n",
              "2021-04-12 13:30:00  79.699997  79.709999  78.550003  78.565002  78.565002   \n",
              "\n",
              "                       Volume  \n",
              "Datetime                       \n",
              "2021-04-12 09:30:00   8150238  \n",
              "2021-04-12 10:30:00   4942307  \n",
              "2021-04-12 11:30:00   5620004  \n",
              "2021-04-12 12:30:00   9302606  \n",
              "2021-04-12 13:30:00  12916687  "
            ],
            "text/html": [
              "\n",
              "  <div id=\"df-b24eac47-5f5d-4edf-aa5f-867ec87f8a80\">\n",
              "    <div class=\"colab-df-container\">\n",
              "      <div>\n",
              "<style scoped>\n",
              "    .dataframe tbody tr th:only-of-type {\n",
              "        vertical-align: middle;\n",
              "    }\n",
              "\n",
              "    .dataframe tbody tr th {\n",
              "        vertical-align: top;\n",
              "    }\n",
              "\n",
              "    .dataframe thead th {\n",
              "        text-align: right;\n",
              "    }\n",
              "</style>\n",
              "<table border=\"1\" class=\"dataframe\">\n",
              "  <thead>\n",
              "    <tr style=\"text-align: right;\">\n",
              "      <th></th>\n",
              "      <th>Open</th>\n",
              "      <th>High</th>\n",
              "      <th>Low</th>\n",
              "      <th>Close</th>\n",
              "      <th>Adj Close</th>\n",
              "      <th>Volume</th>\n",
              "    </tr>\n",
              "    <tr>\n",
              "      <th>Datetime</th>\n",
              "      <th></th>\n",
              "      <th></th>\n",
              "      <th></th>\n",
              "      <th></th>\n",
              "      <th></th>\n",
              "      <th></th>\n",
              "    </tr>\n",
              "  </thead>\n",
              "  <tbody>\n",
              "    <tr>\n",
              "      <th>2021-04-12 09:30:00</th>\n",
              "      <td>81.919998</td>\n",
              "      <td>82.108803</td>\n",
              "      <td>80.910004</td>\n",
              "      <td>81.550003</td>\n",
              "      <td>81.550003</td>\n",
              "      <td>8150238</td>\n",
              "    </tr>\n",
              "    <tr>\n",
              "      <th>2021-04-12 10:30:00</th>\n",
              "      <td>81.550003</td>\n",
              "      <td>81.949203</td>\n",
              "      <td>80.929802</td>\n",
              "      <td>81.709999</td>\n",
              "      <td>81.709999</td>\n",
              "      <td>4942307</td>\n",
              "    </tr>\n",
              "    <tr>\n",
              "      <th>2021-04-12 11:30:00</th>\n",
              "      <td>81.720001</td>\n",
              "      <td>81.919998</td>\n",
              "      <td>80.739998</td>\n",
              "      <td>80.894897</td>\n",
              "      <td>80.894897</td>\n",
              "      <td>5620004</td>\n",
              "    </tr>\n",
              "    <tr>\n",
              "      <th>2021-04-12 12:30:00</th>\n",
              "      <td>80.900002</td>\n",
              "      <td>81.199997</td>\n",
              "      <td>79.675003</td>\n",
              "      <td>79.709999</td>\n",
              "      <td>79.709999</td>\n",
              "      <td>9302606</td>\n",
              "    </tr>\n",
              "    <tr>\n",
              "      <th>2021-04-12 13:30:00</th>\n",
              "      <td>79.699997</td>\n",
              "      <td>79.709999</td>\n",
              "      <td>78.550003</td>\n",
              "      <td>78.565002</td>\n",
              "      <td>78.565002</td>\n",
              "      <td>12916687</td>\n",
              "    </tr>\n",
              "  </tbody>\n",
              "</table>\n",
              "</div>\n",
              "      <button class=\"colab-df-convert\" onclick=\"convertToInteractive('df-b24eac47-5f5d-4edf-aa5f-867ec87f8a80')\"\n",
              "              title=\"Convert this dataframe to an interactive table.\"\n",
              "              style=\"display:none;\">\n",
              "        \n",
              "  <svg xmlns=\"http://www.w3.org/2000/svg\" height=\"24px\"viewBox=\"0 0 24 24\"\n",
              "       width=\"24px\">\n",
              "    <path d=\"M0 0h24v24H0V0z\" fill=\"none\"/>\n",
              "    <path d=\"M18.56 5.44l.94 2.06.94-2.06 2.06-.94-2.06-.94-.94-2.06-.94 2.06-2.06.94zm-11 1L8.5 8.5l.94-2.06 2.06-.94-2.06-.94L8.5 2.5l-.94 2.06-2.06.94zm10 10l.94 2.06.94-2.06 2.06-.94-2.06-.94-.94-2.06-.94 2.06-2.06.94z\"/><path d=\"M17.41 7.96l-1.37-1.37c-.4-.4-.92-.59-1.43-.59-.52 0-1.04.2-1.43.59L10.3 9.45l-7.72 7.72c-.78.78-.78 2.05 0 2.83L4 21.41c.39.39.9.59 1.41.59.51 0 1.02-.2 1.41-.59l7.78-7.78 2.81-2.81c.8-.78.8-2.07 0-2.86zM5.41 20L4 18.59l7.72-7.72 1.47 1.35L5.41 20z\"/>\n",
              "  </svg>\n",
              "      </button>\n",
              "      \n",
              "  <style>\n",
              "    .colab-df-container {\n",
              "      display:flex;\n",
              "      flex-wrap:wrap;\n",
              "      gap: 12px;\n",
              "    }\n",
              "\n",
              "    .colab-df-convert {\n",
              "      background-color: #E8F0FE;\n",
              "      border: none;\n",
              "      border-radius: 50%;\n",
              "      cursor: pointer;\n",
              "      display: none;\n",
              "      fill: #1967D2;\n",
              "      height: 32px;\n",
              "      padding: 0 0 0 0;\n",
              "      width: 32px;\n",
              "    }\n",
              "\n",
              "    .colab-df-convert:hover {\n",
              "      background-color: #E2EBFA;\n",
              "      box-shadow: 0px 1px 2px rgba(60, 64, 67, 0.3), 0px 1px 3px 1px rgba(60, 64, 67, 0.15);\n",
              "      fill: #174EA6;\n",
              "    }\n",
              "\n",
              "    [theme=dark] .colab-df-convert {\n",
              "      background-color: #3B4455;\n",
              "      fill: #D2E3FC;\n",
              "    }\n",
              "\n",
              "    [theme=dark] .colab-df-convert:hover {\n",
              "      background-color: #434B5C;\n",
              "      box-shadow: 0px 1px 3px 1px rgba(0, 0, 0, 0.15);\n",
              "      filter: drop-shadow(0px 1px 2px rgba(0, 0, 0, 0.3));\n",
              "      fill: #FFFFFF;\n",
              "    }\n",
              "  </style>\n",
              "\n",
              "      <script>\n",
              "        const buttonEl =\n",
              "          document.querySelector('#df-b24eac47-5f5d-4edf-aa5f-867ec87f8a80 button.colab-df-convert');\n",
              "        buttonEl.style.display =\n",
              "          google.colab.kernel.accessAllowed ? 'block' : 'none';\n",
              "\n",
              "        async function convertToInteractive(key) {\n",
              "          const element = document.querySelector('#df-b24eac47-5f5d-4edf-aa5f-867ec87f8a80');\n",
              "          const dataTable =\n",
              "            await google.colab.kernel.invokeFunction('convertToInteractive',\n",
              "                                                     [key], {});\n",
              "          if (!dataTable) return;\n",
              "\n",
              "          const docLinkHtml = 'Like what you see? Visit the ' +\n",
              "            '<a target=\"_blank\" href=https://colab.research.google.com/notebooks/data_table.ipynb>data table notebook</a>'\n",
              "            + ' to learn more about interactive tables.';\n",
              "          element.innerHTML = '';\n",
              "          dataTable['output_type'] = 'display_data';\n",
              "          await google.colab.output.renderOutput(dataTable, element);\n",
              "          const docLink = document.createElement('div');\n",
              "          docLink.innerHTML = docLinkHtml;\n",
              "          element.appendChild(docLink);\n",
              "        }\n",
              "      </script>\n",
              "    </div>\n",
              "  </div>\n",
              "  "
            ]
          },
          "metadata": {},
          "execution_count": 37
        }
      ],
      "source": [
        "data.head()"
      ]
    },
    {
      "cell_type": "code",
      "execution_count": null,
      "metadata": {
        "colab": {
          "base_uri": "https://localhost:8080/"
        },
        "id": "RGg2yD07hPn4",
        "outputId": "a312868e-8b88-43cb-a509-34de4205fa59"
      },
      "outputs": [
        {
          "output_type": "execute_result",
          "data": {
            "text/plain": [
              "(3149,)"
            ]
          },
          "metadata": {},
          "execution_count": 38
        }
      ],
      "source": [
        "temp.shape"
      ]
    },
    {
      "cell_type": "code",
      "execution_count": null,
      "metadata": {
        "id": "AT2QrXVNhPn5"
      },
      "outputs": [],
      "source": [
        "scaler = MinMaxScaler(feature_range=(0,1))\n",
        "temp = scaler.fit_transform(np.array(temp).reshape(-1,1))"
      ]
    },
    {
      "cell_type": "code",
      "execution_count": null,
      "metadata": {
        "colab": {
          "base_uri": "https://localhost:8080/"
        },
        "id": "DKGBl0rvhPn5",
        "outputId": "8665d8a2-6b1d-4756-daca-e383b378ae9b"
      },
      "outputs": [
        {
          "output_type": "execute_result",
          "data": {
            "text/plain": [
              "(3149, 1)"
            ]
          },
          "metadata": {},
          "execution_count": 40
        }
      ],
      "source": [
        "temp.shape"
      ]
    },
    {
      "cell_type": "markdown",
      "metadata": {
        "id": "3B__y--NhPn6"
      },
      "source": [
        "## Train Test Split"
      ]
    },
    {
      "cell_type": "code",
      "execution_count": null,
      "metadata": {
        "id": "RCD7pOkEhPn6"
      },
      "outputs": [],
      "source": [
        "# Doing train test split (70-30) sequencially \n",
        "data = data.sort_values(by=\"Datetime\")\n",
        "ntrain = int(len(temp)*0.7)\n",
        "train, test = temp[0:ntrain,:], temp[ntrain:len(temp),:1]\n",
        "\n",
        "# Convert array of values to dataset matrix\n",
        "def dataset(df,time_step=1):\n",
        "    dx,dy = [],[]\n",
        "    for i in range(len(df)-time_step-1):\n",
        "        dx.append(df[i:(i+time_step),0])\n",
        "        dy.append(df[i+time_step,0])\n",
        "    return np.array(dx),np.array(dy)"
      ]
    },
    {
      "cell_type": "code",
      "execution_count": null,
      "metadata": {
        "colab": {
          "base_uri": "https://localhost:8080/"
        },
        "id": "SfiBLJXphPn6",
        "outputId": "1a60737c-87a8-417d-9320-db98dc46a588"
      },
      "outputs": [
        {
          "output_type": "stream",
          "name": "stdout",
          "text": [
            "(2153, 50) (894, 50)\n",
            "(2153,) (894,)\n"
          ]
        }
      ],
      "source": [
        "# Reshaping the Dataset in 3 parts\n",
        "time_step = 50\n",
        "x_train, y_train = dataset(train,time_step)\n",
        "x_test, y_test = dataset(test,time_step)\n",
        "\n",
        "# Checking the Shape\n",
        "print(x_train.shape,x_test.shape)\n",
        "print(y_train.shape,y_test.shape)"
      ]
    },
    {
      "cell_type": "code",
      "execution_count": null,
      "metadata": {
        "colab": {
          "base_uri": "https://localhost:8080/"
        },
        "id": "Dx9P4DtnhPn7",
        "outputId": "f651c260-1a42-4d82-f7d7-be45f68dd6c4"
      },
      "outputs": [
        {
          "output_type": "stream",
          "name": "stdout",
          "text": [
            "(2153, 50, 1) (894, 50, 1)\n",
            "(2153,) (894,)\n"
          ]
        }
      ],
      "source": [
        "# Reshaping the data to numpy array as per requirement for LSTM\n",
        "x_train = x_train.reshape(x_train.shape[0],x_train.shape[1],1)\n",
        "x_test = x_test.reshape(x_test.shape[0],x_test.shape[1],1)\n",
        "\n",
        "# Checking the Shape\n",
        "print(x_train.shape,x_test.shape)\n",
        "print(y_train.shape,y_test.shape)"
      ]
    },
    {
      "cell_type": "markdown",
      "metadata": {
        "id": "uyHhd7L1hPn7"
      },
      "source": [
        "## Applying LSTM Model"
      ]
    },
    {
      "cell_type": "code",
      "execution_count": null,
      "metadata": {
        "id": "EBFUS7WfhPn7"
      },
      "outputs": [],
      "source": [
        "model = Sequential()\n",
        "model.add(LSTM(64,return_sequences = True,input_shape = (50,1)))\n",
        "model.add(LSTM(32))\n",
        "model.add(Dense(16,activation='relu'))\n",
        "model.add(Dense(1))"
      ]
    },
    {
      "cell_type": "code",
      "execution_count": null,
      "metadata": {
        "colab": {
          "base_uri": "https://localhost:8080/"
        },
        "id": "qchZwAbDhPn7",
        "outputId": "527efec2-c329-4077-c692-a9e19b05a6ce"
      },
      "outputs": [
        {
          "output_type": "stream",
          "name": "stdout",
          "text": [
            "Model: \"sequential_1\"\n",
            "_________________________________________________________________\n",
            " Layer (type)                Output Shape              Param #   \n",
            "=================================================================\n",
            " lstm_2 (LSTM)               (None, 50, 64)            16896     \n",
            "                                                                 \n",
            " lstm_3 (LSTM)               (None, 32)                12416     \n",
            "                                                                 \n",
            " dense_2 (Dense)             (None, 16)                528       \n",
            "                                                                 \n",
            " dense_3 (Dense)             (None, 1)                 17        \n",
            "                                                                 \n",
            "=================================================================\n",
            "Total params: 29,857\n",
            "Trainable params: 29,857\n",
            "Non-trainable params: 0\n",
            "_________________________________________________________________\n"
          ]
        }
      ],
      "source": [
        "model.summary()\n",
        "model.compile(loss='mse',optimizer='adam')"
      ]
    },
    {
      "cell_type": "code",
      "execution_count": null,
      "metadata": {
        "colab": {
          "base_uri": "https://localhost:8080/"
        },
        "id": "m2vX0uu3hPn8",
        "outputId": "861029cf-1164-41f3-e2cc-c266066e5909"
      },
      "outputs": [
        {
          "output_type": "stream",
          "name": "stdout",
          "text": [
            "Epoch 1/15\n",
            "68/68 [==============================] - 13s 73ms/step - loss: 0.0317 - val_loss: 0.0021\n",
            "Epoch 2/15\n",
            "68/68 [==============================] - 4s 58ms/step - loss: 0.0011 - val_loss: 8.5124e-04\n",
            "Epoch 3/15\n",
            "68/68 [==============================] - 5s 79ms/step - loss: 0.0010 - val_loss: 7.9210e-04\n",
            "Epoch 4/15\n",
            "68/68 [==============================] - 4s 58ms/step - loss: 0.0010 - val_loss: 7.1608e-04\n",
            "Epoch 5/15\n",
            "68/68 [==============================] - 4s 63ms/step - loss: 9.8774e-04 - val_loss: 6.6167e-04\n",
            "Epoch 6/15\n",
            "68/68 [==============================] - 5s 74ms/step - loss: 9.0017e-04 - val_loss: 6.0030e-04\n",
            "Epoch 7/15\n",
            "68/68 [==============================] - 4s 60ms/step - loss: 8.5650e-04 - val_loss: 5.0499e-04\n",
            "Epoch 8/15\n",
            "68/68 [==============================] - 5s 74ms/step - loss: 8.3770e-04 - val_loss: 5.0162e-04\n",
            "Epoch 9/15\n",
            "68/68 [==============================] - 6s 84ms/step - loss: 8.4516e-04 - val_loss: 4.7352e-04\n",
            "Epoch 10/15\n",
            "68/68 [==============================] - 4s 60ms/step - loss: 7.8156e-04 - val_loss: 5.3859e-04\n",
            "Epoch 11/15\n",
            "68/68 [==============================] - 5s 66ms/step - loss: 7.6369e-04 - val_loss: 4.4340e-04\n",
            "Epoch 12/15\n",
            "68/68 [==============================] - 5s 74ms/step - loss: 6.8264e-04 - val_loss: 5.4159e-04\n",
            "Epoch 13/15\n",
            "68/68 [==============================] - 4s 62ms/step - loss: 6.4565e-04 - val_loss: 3.9728e-04\n",
            "Epoch 14/15\n",
            "68/68 [==============================] - 5s 70ms/step - loss: 6.4161e-04 - val_loss: 3.7030e-04\n",
            "Epoch 15/15\n",
            "68/68 [==============================] - 5s 67ms/step - loss: 6.1781e-04 - val_loss: 4.2254e-04\n"
          ]
        },
        {
          "output_type": "execute_result",
          "data": {
            "text/plain": [
              "<keras.callbacks.History at 0x7ffa928f8b80>"
            ]
          },
          "metadata": {},
          "execution_count": 49
        }
      ],
      "source": [
        "earlystopping = callbacks.EarlyStopping(monitor =\"val_loss\",mode =\"min\",patience = 3,restore_best_weights = True)\n",
        "model.fit(x_train,y_train,validation_data=(x_test,y_test),epochs = 15,batch_size = 32,verbose=1,callbacks =[earlystopping])"
      ]
    },
    {
      "cell_type": "markdown",
      "metadata": {
        "id": "TFdU2XhnhPn8"
      },
      "source": [
        "## Prediction on Test Data"
      ]
    },
    {
      "cell_type": "code",
      "execution_count": null,
      "metadata": {
        "colab": {
          "base_uri": "https://localhost:8080/"
        },
        "id": "b1q5L_dlhPn8",
        "outputId": "afa69600-62b6-464f-c96e-e86a2bf43159"
      },
      "outputs": [
        {
          "output_type": "stream",
          "name": "stdout",
          "text": [
            "68/68 [==============================] - 2s 17ms/step\n",
            "28/28 [==============================] - 1s 18ms/step\n"
          ]
        }
      ],
      "source": [
        "yp_train = model.predict(x_train)\n",
        "yp_test = model.predict(x_test)"
      ]
    },
    {
      "cell_type": "markdown",
      "metadata": {
        "id": "rQ1ghbCXhPn9"
      },
      "source": [
        "## Inverse Transformation "
      ]
    },
    {
      "cell_type": "code",
      "execution_count": null,
      "metadata": {
        "id": "DkY-EmHGhPn9"
      },
      "outputs": [],
      "source": [
        "yp_train = scaler.inverse_transform(yp_train)\n",
        "yp_test = scaler.inverse_transform(yp_test)"
      ]
    },
    {
      "cell_type": "code",
      "execution_count": null,
      "metadata": {
        "colab": {
          "base_uri": "https://localhost:8080/"
        },
        "id": "uwscJ32whPn9",
        "outputId": "f831169f-ea16-4b6a-8d7d-dd0fa64539c7"
      },
      "outputs": [
        {
          "output_type": "stream",
          "name": "stdout",
          "text": [
            "(2153, 50, 1) (894, 50, 1)\n",
            "(2153,) (894,)\n",
            "(2153, 1) (894, 1)\n"
          ]
        }
      ],
      "source": [
        "print(x_train.shape,x_test.shape)\n",
        "print(y_train.shape,y_test.shape)\n",
        "print(yp_train.shape,yp_test.shape)"
      ]
    },
    {
      "cell_type": "markdown",
      "metadata": {
        "id": "bs3iw_l1hPn9"
      },
      "source": [
        "## Evaluating the Model using metrics"
      ]
    },
    {
      "cell_type": "code",
      "execution_count": null,
      "metadata": {
        "colab": {
          "base_uri": "https://localhost:8080/"
        },
        "id": "_WBlC7BthPn9",
        "outputId": "20a6b4d2-f091-4b4a-9496-d131dd86dcc1"
      },
      "outputs": [
        {
          "output_type": "stream",
          "name": "stdout",
          "text": [
            "MAE for Train Data: 106.98425539831952\n",
            "MAE for Test Data: 75.3068852193878\n",
            "\n",
            "MSE for Train Data: 11912.2845586964\n",
            "MSE for Test Data: 5829.085448790771\n",
            "\n"
          ]
        }
      ],
      "source": [
        "# MAE\n",
        "print(\"MAE for Train Data: {}\".format(mean_absolute_error(y_train,yp_train)))\n",
        "print(\"MAE for Test Data: {}\\n\".format(mean_absolute_error(y_test,yp_test)))\n",
        "\n",
        "# MSE\n",
        "print(\"MSE for Train Data: {}\".format(mean_squared_error(y_train,yp_train)))\n",
        "print(\"MSE for Test Data: {}\\n\".format(mean_squared_error(y_test,yp_test)))"
      ]
    },
    {
      "cell_type": "markdown",
      "metadata": {
        "id": "2Gv7PTcRhPn-"
      },
      "source": [
        "## Plotting the Predicted Output"
      ]
    },
    {
      "cell_type": "code",
      "execution_count": null,
      "metadata": {
        "colab": {
          "base_uri": "https://localhost:8080/",
          "height": 265
        },
        "id": "5-uu0tGmhPn-",
        "outputId": "154074af-b11e-4120-a7fe-299e58e7728c"
      },
      "outputs": [
        {
          "output_type": "display_data",
          "data": {
            "text/plain": [
              "<Figure size 432x288 with 1 Axes>"
            ],
            "image/png": "[encoded data removed]"
          },
          "metadata": {
            "needs_background": "light"
          }
        }
      ],
      "source": [
        "# Shifting train predictions for plotting\n",
        "look_back=50\n",
        "yp_train_plot = np.empty_like(temp)\n",
        "yp_train_plot[:,:] = np.nan\n",
        "yp_train_plot[look_back:len(yp_train)+look_back,:] = yp_train\n",
        "\n",
        "# Shifting test predictions for plotting\n",
        "yp_test_plot = np.empty_like(temp)\n",
        "yp_test_plot[:, :] = np.nan\n",
        "yp_test_plot[len(yp_train)+(look_back*2)+1:len(temp)-1,:] = yp_test\n",
        "\n",
        "# Plotting predictions\n",
        "plt.plot(scaler.inverse_transform(temp))\n",
        "plt.plot(yp_train_plot)\n",
        "plt.plot(yp_test_plot)\n",
        "plt.show()"
      ]
    },
    {
      "cell_type": "markdown",
      "metadata": {
        "id": "Nva3zEUkhPn-"
      },
      "source": [
        "> **Orange Line: Train Data**\n",
        ">\n",
        "> **Green Line: Test Data**"
      ]
    },
    {
      "cell_type": "markdown",
      "metadata": {
        "id": "nb2HBNWVhPn-"
      },
      "source": [
        "## Predicting & Forecasting for next 30 Days"
      ]
    },
    {
      "cell_type": "code",
      "execution_count": null,
      "metadata": {
        "id": "IrZ4Ih4whPn-"
      },
      "outputs": [],
      "source": [
        "x_input = test[(len(test)-500):].reshape(1,-1) # We take last 50 days data from test data for our future prediction \n",
        "temp_input = list(x_input)\n",
        "temp_input = temp_input[0].tolist() # Test data"
      ]
    },
    {
      "cell_type": "code",
      "execution_count": null,
      "metadata": {
        "colab": {
          "base_uri": "https://localhost:8080/"
        },
        "id": "__E5tPSYhPn-",
        "outputId": "741b42c9-1813-41fe-ff09-ea0cf954018e"
      },
      "outputs": [
        {
          "output_type": "stream",
          "name": "stdout",
          "text": [
            "1 day output [[0.18487163]]\n",
            "2 day output [[0.18508919]]\n",
            "3 day output [[0.18568839]]\n",
            "4 day output [[0.18655361]]\n",
            "5 day output [[0.18759924]]\n",
            "6 day output [[0.18876408]]\n",
            "7 day output [[0.1900057]]\n",
            "8 day output [[0.19129552]]\n",
            "9 day output [[0.19261445]]\n",
            "10 day output [[0.19395025]]\n",
            "11 day output [[0.19529517]]\n",
            "12 day output [[0.19664426]]\n",
            "13 day output [[0.19799463]]\n",
            "14 day output [[0.19934441]]\n",
            "15 day output [[0.20069252]]\n",
            "16 day output [[0.20203833]]\n",
            "17 day output [[0.20338143]]\n",
            "18 day output [[0.20472156]]\n",
            "19 day output [[0.20605853]]\n",
            "20 day output [[0.20739229]]\n",
            "21 day output [[0.20872268]]\n",
            "22 day output [[0.2100497]]\n",
            "23 day output [[0.21137327]]\n",
            "24 day output [[0.21269338]]\n",
            "25 day output [[0.21401002]]\n",
            "26 day output [[0.2153232]]\n",
            "27 day output [[0.21663287]]\n",
            "28 day output [[0.21793918]]\n",
            "29 day output [[0.21924208]]\n",
            "30 day output [[0.22054166]]\n",
            "31 day output [[0.22183795]]\n",
            "32 day output [[0.22313105]]\n",
            "33 day output [[0.22442101]]\n",
            "34 day output [[0.22570796]]\n",
            "35 day output [[0.22699192]]\n",
            "36 day output [[0.228273]]\n",
            "37 day output [[0.22955133]]\n",
            "38 day output [[0.23082693]]\n",
            "39 day output [[0.23209994]]\n",
            "40 day output [[0.23337044]]\n",
            "41 day output [[0.23463853]]\n",
            "42 day output [[0.23590434]]\n",
            "43 day output [[0.23716788]]\n",
            "44 day output [[0.23842932]]\n",
            "45 day output [[0.23968866]]\n",
            "46 day output [[0.24094613]]\n",
            "47 day output [[0.24220167]]\n",
            "48 day output [[0.24345547]]\n",
            "49 day output [[0.24470763]]\n"
          ]
        }
      ],
      "source": [
        "# Predictions for next 30 days\n",
        "\n",
        "lstm_op = []\n",
        "n_steps = 500\n",
        "i = 0\n",
        "while(i < 50):\n",
        "    if(len(temp_input)>500):\n",
        "        x_input=np.array(temp_input[1:])\n",
        "        \n",
        "        #print(\"{} day input {}\".format(i,x_input))\n",
        "        x_input=x_input.reshape(1,-1)\n",
        "        x_input = x_input.reshape((1, n_steps, 1))\n",
        "        \n",
        "        yp = model.predict(x_input, verbose=0)\n",
        "        print(\"{} hour output {}\".format(i,yp))\n",
        "        \n",
        "        temp_input.extend(yp[0].tolist())\n",
        "        temp_input=temp_input[1:]\n",
        "        lstm_op.extend(yp.tolist())\n",
        "        i=i+1\n",
        "    else:\n",
        "        x_input = x_input.reshape((1,n_steps,1))\n",
        "        yp = model.predict(x_input,verbose=0)\n",
        "        \n",
        "        temp_input.extend(yp[0].tolist())\n",
        "        lstm_op.extend(yp.tolist())\n",
        "        i=i+1"
      ]
    },
    {
      "cell_type": "code",
      "execution_count": null,
      "metadata": {
        "colab": {
          "base_uri": "https://localhost:8080/",
          "height": 282
        },
        "id": "QB3x2p2UhPn_",
        "outputId": "f789e9b9-64fd-466a-e29f-d19bd79a8154"
      },
      "outputs": [
        {
          "output_type": "execute_result",
          "data": {
            "text/plain": [
              "[<matplotlib.lines.Line2D at 0x7ffa91622b80>]"
            ]
          },
          "metadata": {},
          "execution_count": 57
        },
        {
          "output_type": "display_data",
          "data": {
            "text/plain": [
              "<Figure size 432x288 with 1 Axes>"
            ],
            "image/png": "[encoded data removed]"
          },
          "metadata": {
            "needs_background": "light"
          }
        }
      ],
      "source": [
        "day_new = np.arange(1,501)\n",
        "day_pred=np.arange(501,501+50)\n",
        "\n",
        "plt.plot(day_new,scaler.inverse_transform(temp[len(temp)-500:]))\n",
        "plt.plot(day_pred,scaler.inverse_transform(lstm_op))"
      ]
    },
    {
      "cell_type": "markdown",
      "metadata": {
        "id": "kAllEgxNhPn_"
      },
      "source": [
        "## Conclusion\n",
        "> #### Used Stacked LSTM for Stock Market Prediction & Done Forecasting for next 30 days."
      ]
    }
  ],
  "metadata": {
    "colab": {
      "provenance": [],
      "include_colab_link": true
    },
    "kernelspec": {
      "display_name": "Python 3",
      "language": "python",
      "name": "python3"
    },
    "language_info": {
      "codemirror_mode": {
        "name": "ipython",
        "version": 3
      },
      "file_extension": ".py",
      "mimetype": "text/x-python",
      "name": "python",
      "nbconvert_exporter": "python",
      "pygments_lexer": "ipython3",
      "version": "3.6.4"
    }
  },
  "nbformat": 4,
  "nbformat_minor": 0
}